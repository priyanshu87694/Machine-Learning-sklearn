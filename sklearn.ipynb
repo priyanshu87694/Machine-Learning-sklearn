{
  "nbformat": 4,
  "nbformat_minor": 0,
  "metadata": {
    "colab": {
      "name": "sklearn.ipynb",
      "provenance": [],
      "collapsed_sections": [],
      "authorship_tag": "ABX9TyPu1nDWle4o3ka+1c59Tqk/",
      "include_colab_link": true
    },
    "kernelspec": {
      "name": "python3",
      "display_name": "Python 3"
    },
    "language_info": {
      "name": "python"
    }
  },
  "cells": [
    {
      "cell_type": "markdown",
      "metadata": {
        "id": "view-in-github",
        "colab_type": "text"
      },
      "source": [
        "<a href=\"https://colab.research.google.com/github/priyanshu87694/Machine-Learning-sklearn/blob/master/sklearn.ipynb\" target=\"_parent\"><img src=\"https://colab.research.google.com/assets/colab-badge.svg\" alt=\"Open In Colab\"/></a>"
      ]
    },
    {
      "cell_type": "markdown",
      "source": [
        "### Imports"
      ],
      "metadata": {
        "id": "5mMYItM300D9"
      }
    },
    {
      "cell_type": "code",
      "source": [
        "import numpy as np\n",
        "import pandas as pd\n",
        "from sklearn import neighbors, metrics\n",
        "from sklearn.preprocessing import LabelEncoder\n",
        "from sklearn.model_selection import train_test_split"
      ],
      "metadata": {
        "id": "ZfbvnyIE0EkA"
      },
      "execution_count": 257,
      "outputs": []
    },
    {
      "cell_type": "code",
      "source": [
        "data = pd.read_csv('/content/car.data')\n",
        "print(data.head())"
      ],
      "metadata": {
        "colab": {
          "base_uri": "https://localhost:8080/"
        },
        "id": "D1Ubw-T603mf",
        "outputId": "0f6aacfe-fcfc-4573-9e5f-1c61de9420ca"
      },
      "execution_count": 258,
      "outputs": [
        {
          "output_type": "stream",
          "name": "stdout",
          "text": [
            "  buying  maint doors persons lug_boots safety  class\n",
            "0  vhigh  vhigh     2       2     small    low  unacc\n",
            "1  vhigh  vhigh     2       2     small    med  unacc\n",
            "2  vhigh  vhigh     2       2     small   high  unacc\n",
            "3  vhigh  vhigh     2       2       med    low  unacc\n",
            "4  vhigh  vhigh     2       2       med    med  unacc\n"
          ]
        }
      ]
    },
    {
      "cell_type": "code",
      "source": [
        "X = data[['buying', 'maint', 'safety']]\n",
        "print(X.head())\n",
        "print()\n",
        "y = data[['class']]\n",
        "print(y.head())"
      ],
      "metadata": {
        "colab": {
          "base_uri": "https://localhost:8080/"
        },
        "id": "fMKPRYeI1-29",
        "outputId": "8bd9ceb7-21cd-48c7-988a-c66e1f9c031e"
      },
      "execution_count": 265,
      "outputs": [
        {
          "output_type": "stream",
          "name": "stdout",
          "text": [
            "  buying  maint safety\n",
            "0  vhigh  vhigh    low\n",
            "1  vhigh  vhigh    med\n",
            "2  vhigh  vhigh   high\n",
            "3  vhigh  vhigh    low\n",
            "4  vhigh  vhigh    med\n",
            "\n",
            "   class\n",
            "0  unacc\n",
            "1  unacc\n",
            "2  unacc\n",
            "3  unacc\n",
            "4  unacc\n"
          ]
        }
      ]
    },
    {
      "cell_type": "markdown",
      "source": [
        "#### Data conversion"
      ],
      "metadata": {
        "id": "Ds_rZ4Oz2iWD"
      }
    },
    {
      "cell_type": "code",
      "source": [
        "le = LabelEncoder()\n",
        "X = X.values\n",
        "for i in range(len(X[0])):\n",
        "  X[:, i] = le.fit_transform(X[:, i])\n",
        "print(X)"
      ],
      "metadata": {
        "colab": {
          "base_uri": "https://localhost:8080/"
        },
        "id": "gh-efhJ_2adn",
        "outputId": "fd996f46-e4a0-4741-81ba-b63a51d6886e"
      },
      "execution_count": 266,
      "outputs": [
        {
          "output_type": "stream",
          "name": "stdout",
          "text": [
            "[[3 3 1]\n",
            " [3 3 2]\n",
            " [3 3 0]\n",
            " ...\n",
            " [1 1 1]\n",
            " [1 1 2]\n",
            " [1 1 0]]\n"
          ]
        }
      ]
    },
    {
      "cell_type": "code",
      "source": [
        "# converting y\n",
        "label_mapping = {\n",
        "    'unacc': 0,\n",
        "    'acc': 1,\n",
        "    'good': 2,\n",
        "    'vgood': 3\n",
        "}\n",
        "y['class'] = y['class'].map(label_mapping)\n",
        "y = np.array(y)\n",
        "print(y)"
      ],
      "metadata": {
        "colab": {
          "base_uri": "https://localhost:8080/"
        },
        "id": "dBNBhX-F3QdW",
        "outputId": "fa3cf76a-3b63-4bba-a1d1-088e2e235510"
      },
      "execution_count": 267,
      "outputs": [
        {
          "output_type": "stream",
          "name": "stdout",
          "text": [
            "[[0]\n",
            " [0]\n",
            " [0]\n",
            " ...\n",
            " [0]\n",
            " [2]\n",
            " [3]]\n"
          ]
        },
        {
          "output_type": "stream",
          "name": "stderr",
          "text": [
            "/usr/local/lib/python3.7/dist-packages/ipykernel_launcher.py:8: SettingWithCopyWarning: \n",
            "A value is trying to be set on a copy of a slice from a DataFrame.\n",
            "Try using .loc[row_indexer,col_indexer] = value instead\n",
            "\n",
            "See the caveats in the documentation: https://pandas.pydata.org/pandas-docs/stable/user_guide/indexing.html#returning-a-view-versus-a-copy\n",
            "  \n"
          ]
        }
      ]
    },
    {
      "cell_type": "markdown",
      "source": [
        "### Create and Train the model"
      ],
      "metadata": {
        "id": "vrpOvyew37Bg"
      }
    },
    {
      "cell_type": "code",
      "source": [
        "Xtrain, Xtest, ytrain, ytest = train_test_split(X, y, test_size=0.2)\n",
        "# model\n",
        "knn = neighbors.KNeighborsClassifier(n_neighbors=25, weights='uniform')\n",
        "knn.fit(Xtrain, ytrain)\n",
        "prediction = knn.predict(Xtest)\n",
        "accuracy = metrics.accuracy_score(ytest, prediction)"
      ],
      "metadata": {
        "colab": {
          "base_uri": "https://localhost:8080/"
        },
        "id": "xl9ZjNJh36ak",
        "outputId": "e9a6be09-fb0e-490a-d9c6-ed81bef78d38"
      },
      "execution_count": 272,
      "outputs": [
        {
          "output_type": "stream",
          "name": "stderr",
          "text": [
            "/usr/local/lib/python3.7/dist-packages/sklearn/neighbors/_classification.py:198: DataConversionWarning: A column-vector y was passed when a 1d array was expected. Please change the shape of y to (n_samples,), for example using ravel().\n",
            "  return self._fit(X, y)\n"
          ]
        }
      ]
    },
    {
      "cell_type": "code",
      "source": [
        "print('prediction: ', prediction)\n",
        "print('accuracy: ', accuracy)"
      ],
      "metadata": {
        "colab": {
          "base_uri": "https://localhost:8080/"
        },
        "id": "huFYyj_m5m30",
        "outputId": "70181e5a-a0f4-4a9f-9b9c-626c3d2b9e90"
      },
      "execution_count": 273,
      "outputs": [
        {
          "output_type": "stream",
          "name": "stdout",
          "text": [
            "prediction:  [0 0 1 0 0 1 0 0 0 0 1 2 1 0 3 0 0 0 0 1 0 0 1 3 0 0 0 0 0 3 0 0 0 3 0 0 1\n",
            " 1 3 0 0 3 0 0 0 0 0 0 0 0 0 1 3 0 1 0 0 0 1 0 0 0 1 0 0 1 0 2 0 1 0 0 0 0\n",
            " 1 1 0 0 1 0 3 1 0 0 0 1 0 0 0 0 0 0 0 3 0 2 0 0 0 2 0 0 0 0 0 0 3 3 0 0 1\n",
            " 0 1 0 0 0 0 0 0 0 0 1 1 0 1 0 0 1 0 0 1 1 0 3 0 1 0 0 2 0 3 0 0 1 1 3 0 2\n",
            " 0 0 0 1 0 3 0 1 0 0 1 0 0 0 0 0 2 1 1 1 1 0 3 3 1 0 1 0 0 1 0 0 1 2 3 0 0\n",
            " 0 0 0 1 0 0 0 0 1 0 0 0 0 0 0 0 1 1 0 2 0 1 0 0 0 1 0 0 0 2 1 0 0 0 0 0 0\n",
            " 2 3 1 0 0 0 1 1 1 0 1 0 0 0 0 0 0 0 0 1 0 1 0 0 1 0 1 0 0 0 0 0 2 3 0 0 0\n",
            " 1 0 0 1 0 0 0 0 1 2 1 0 0 0 0 0 1 1 1 0 0 0 0 0 0 1 0 2 0 0 0 0 3 1 1 0 0\n",
            " 1 0 0 0 1 1 1 1 3 0 0 1 0 0 0 3 0 2 0 0 0 0 0 0 2 0 0 1 0 0 3 0 1 0 0 0 0\n",
            " 3 0 0 0 1 0 1 1 0 1 0 0 0]\n",
            "accuracy:  0.7543352601156069\n"
          ]
        }
      ]
    }
  ]
}