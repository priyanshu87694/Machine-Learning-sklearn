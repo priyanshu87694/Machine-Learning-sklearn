{
  "nbformat": 4,
  "nbformat_minor": 0,
  "metadata": {
    "colab": {
      "name": "Mall_Customers.ipynb",
      "provenance": [],
      "authorship_tag": "ABX9TyPI5sbF+kXyU5+MkN5Q3AXL",
      "include_colab_link": true
    },
    "kernelspec": {
      "name": "python3",
      "display_name": "Python 3"
    },
    "language_info": {
      "name": "python"
    }
  },
  "cells": [
    {
      "cell_type": "markdown",
      "metadata": {
        "id": "view-in-github",
        "colab_type": "text"
      },
      "source": [
        "<a href=\"https://colab.research.google.com/github/priyanshu87694/Machine-Learning-sklearn/blob/master/Mall_Customers.ipynb\" target=\"_parent\"><img src=\"https://colab.research.google.com/assets/colab-badge.svg\" alt=\"Open In Colab\"/></a>"
      ]
    },
    {
      "cell_type": "markdown",
      "source": [
        "#### Imports"
      ],
      "metadata": {
        "id": "Oc7dwCuvWN28"
      }
    },
    {
      "cell_type": "code",
      "execution_count": 55,
      "metadata": {
        "id": "3XovlBGGVmri"
      },
      "outputs": [],
      "source": [
        "from sklearn import linear_model\n",
        "from sklearn.model_selection import train_test_split\n",
        "import matplotlib.pyplot as plt\n",
        "import pandas as pd\n",
        "from sklearn.preprocessing import LabelEncoder"
      ]
    },
    {
      "cell_type": "markdown",
      "source": [
        "#### Read the csv data"
      ],
      "metadata": {
        "id": "C0pA2xuDWb2Z"
      }
    },
    {
      "cell_type": "code",
      "source": [
        "data = pd.read_csv('/content/Mall_Customers.csv')\n",
        "print(data.head())"
      ],
      "metadata": {
        "colab": {
          "base_uri": "https://localhost:8080/"
        },
        "id": "Q1Xb-hsTWQsp",
        "outputId": "f3085ceb-6f92-43f5-b852-c067c1a2ec02"
      },
      "execution_count": 56,
      "outputs": [
        {
          "output_type": "stream",
          "name": "stdout",
          "text": [
            "   CustomerID   Genre  Age  AnnualIncome  SpendingScore\n",
            "0           1    Male   19            15             39\n",
            "1           2    Male   21            15             81\n",
            "2           3  Female   20            16              6\n",
            "3           4  Female   23            16             77\n",
            "4           5  Female   31            17             40\n"
          ]
        }
      ]
    },
    {
      "cell_type": "code",
      "source": [
        "X = data[['Genre', 'Age', 'AnnualIncome']]\n",
        "print(X.head())\n",
        "print()\n",
        "y = data[['SpendingScore']]\n",
        "print(y.head())\n",
        "X = X.values\n",
        "y = y.values"
      ],
      "metadata": {
        "colab": {
          "base_uri": "https://localhost:8080/"
        },
        "id": "JNcg5-4RWpsj",
        "outputId": "fe7dd7da-3c6e-46ea-875e-a0766a72a8e4"
      },
      "execution_count": 57,
      "outputs": [
        {
          "output_type": "stream",
          "name": "stdout",
          "text": [
            "    Genre  Age  AnnualIncome\n",
            "0    Male   19            15\n",
            "1    Male   21            15\n",
            "2  Female   20            16\n",
            "3  Female   23            16\n",
            "4  Female   31            17\n",
            "\n",
            "   SpendingScore\n",
            "0             39\n",
            "1             81\n",
            "2              6\n",
            "3             77\n",
            "4             40\n"
          ]
        }
      ]
    },
    {
      "cell_type": "markdown",
      "source": [
        "#### Convert the data"
      ],
      "metadata": {
        "id": "5NTT0UpdYDvN"
      }
    },
    {
      "cell_type": "code",
      "source": [
        "le = LabelEncoder()\n",
        "for i in range(len(X[0])):\n",
        "  X[:,i] = le.fit_transform(X[:,i])"
      ],
      "metadata": {
        "id": "1ndotFrzYG1j"
      },
      "execution_count": 58,
      "outputs": []
    },
    {
      "cell_type": "markdown",
      "source": [
        "#### Seperate the training and the testing data"
      ],
      "metadata": {
        "id": "Z4qPRxIdXI8t"
      }
    },
    {
      "cell_type": "code",
      "source": [
        "Xtrain, Xtest, ytrain, ytest = train_test_split(X, y, test_size=0.2)"
      ],
      "metadata": {
        "id": "NOxPVjEaXHpO"
      },
      "execution_count": 59,
      "outputs": []
    },
    {
      "cell_type": "markdown",
      "source": [
        "#### Create and train the model"
      ],
      "metadata": {
        "id": "JEtHU5D4XbT1"
      }
    },
    {
      "cell_type": "code",
      "source": [
        "linear_reg = linear_model.LinearRegression()\n",
        "model = linear_reg.fit(Xtrain, ytrain)\n",
        "prediction = model.predict(Xtest)\n",
        "print('prediction: ', prediction)\n",
        "print('R^2: ', linear_reg.score(X, y))\n",
        "print('coeff: ', linear_reg.coef_)\n",
        "print('intercept: ', linear_reg.intercept_)"
      ],
      "metadata": {
        "colab": {
          "base_uri": "https://localhost:8080/"
        },
        "id": "esAp3wJLXhxd",
        "outputId": "0f1f6dbd-0f0f-49b1-8055-62b4e74dc4bd"
      },
      "execution_count": 60,
      "outputs": [
        {
          "output_type": "stream",
          "name": "stdout",
          "text": [
            "prediction:  [[63.25495996]\n",
            " [30.37340971]\n",
            " [50.06573597]\n",
            " [42.00530863]\n",
            " [61.82245719]\n",
            " [53.0555638 ]\n",
            " [59.53005532]\n",
            " [29.52948825]\n",
            " [62.73510636]\n",
            " [56.02111914]\n",
            " [48.58258568]\n",
            " [35.14557115]\n",
            " [64.32859179]\n",
            " [62.36794058]\n",
            " [30.9023034 ]\n",
            " [60.96255808]\n",
            " [57.20583135]\n",
            " [47.65470411]\n",
            " [64.74715034]\n",
            " [44.22823755]\n",
            " [33.55208572]\n",
            " [36.75713676]\n",
            " [43.16364581]\n",
            " [55.25496547]\n",
            " [53.30260911]\n",
            " [64.38902464]\n",
            " [63.96217125]\n",
            " [58.91943725]\n",
            " [50.0233833 ]\n",
            " [34.73605269]\n",
            " [55.73172115]\n",
            " [53.43102443]\n",
            " [58.84166945]\n",
            " [53.81267737]\n",
            " [54.83640692]\n",
            " [56.32934255]\n",
            " [30.61290541]\n",
            " [51.10320744]\n",
            " [41.45003991]\n",
            " [61.72945699]]\n",
            "R^2:  0.10819865855091149\n",
            "coeff:  [[-0.35738045 -0.70721129  0.05968762]]\n",
            "intercept:  [62.88704893]\n"
          ]
        }
      ]
    }
  ]
}