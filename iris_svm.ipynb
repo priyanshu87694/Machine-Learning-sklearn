{
  "nbformat": 4,
  "nbformat_minor": 0,
  "metadata": {
    "colab": {
      "name": "iris_svm.ipynb",
      "provenance": [],
      "authorship_tag": "ABX9TyNtedqslGDazbSAi9FFMdNC",
      "include_colab_link": true
    },
    "kernelspec": {
      "name": "python3",
      "display_name": "Python 3"
    },
    "language_info": {
      "name": "python"
    }
  },
  "cells": [
    {
      "cell_type": "markdown",
      "metadata": {
        "id": "view-in-github",
        "colab_type": "text"
      },
      "source": [
        "<a href=\"https://colab.research.google.com/github/priyanshu87694/Machine-Learning-sklearn/blob/master/iris_svm.ipynb\" target=\"_parent\"><img src=\"https://colab.research.google.com/assets/colab-badge.svg\" alt=\"Open In Colab\"/></a>"
      ]
    },
    {
      "cell_type": "markdown",
      "source": [
        "#### Imports"
      ],
      "metadata": {
        "id": "5rukwrAcCtDL"
      }
    },
    {
      "cell_type": "code",
      "execution_count": 16,
      "metadata": {
        "id": "oQzkZ5udCDZy"
      },
      "outputs": [],
      "source": [
        "from sklearn import datasets\n",
        "import numpy as np\n",
        "from sklearn.model_selection import train_test_split\n",
        "from sklearn import svm\n",
        "from sklearn.metrics import accuracy_score"
      ]
    },
    {
      "cell_type": "markdown",
      "source": [
        "#### Load iris dataset"
      ],
      "metadata": {
        "id": "OPCImWsxCyGy"
      }
    },
    {
      "cell_type": "code",
      "source": [
        "iris = datasets.load_iris()\n",
        "X = iris.data\n",
        "y = iris.target"
      ],
      "metadata": {
        "id": "4TKx3a-sCxqJ"
      },
      "execution_count": 17,
      "outputs": []
    },
    {
      "cell_type": "markdown",
      "source": [
        "#### Seperate training and testing data"
      ],
      "metadata": {
        "id": "Ks3vXdJHD5Tl"
      }
    },
    {
      "cell_type": "code",
      "source": [
        "Xtrain, Xtest, ytrain, ytest = train_test_split(X, y, test_size=0.2)"
      ],
      "metadata": {
        "id": "018UIu8ODQBy"
      },
      "execution_count": 18,
      "outputs": []
    },
    {
      "cell_type": "markdown",
      "source": [
        "#### Create and train the model"
      ],
      "metadata": {
        "id": "N2elU5lREPgI"
      }
    },
    {
      "cell_type": "code",
      "source": [
        "model = svm.SVC()\n",
        "model.fit(Xtrain, ytrain)\n",
        "print(model)\n",
        "prediction = model.predict(Xtest)\n",
        "accuracy = accuracy_score(ytest, prediction)\n",
        "print('prediction: ', prediction)\n",
        "print('accuracy: ', accuracy)"
      ],
      "metadata": {
        "colab": {
          "base_uri": "https://localhost:8080/"
        },
        "id": "CkIl6nsnEUVc",
        "outputId": "a06a856a-cbf8-4e62-ec8b-c93bc5ac0ab6"
      },
      "execution_count": 19,
      "outputs": [
        {
          "output_type": "stream",
          "name": "stdout",
          "text": [
            "SVC()\n",
            "prediction:  [0 0 2 2 1 2 2 1 1 0 1 1 1 2 0 1 1 2 1 0 1 0 1 2 0 1 0 2 2 2]\n",
            "accuracy:  0.9666666666666667\n"
          ]
        }
      ]
    }
  ]
}